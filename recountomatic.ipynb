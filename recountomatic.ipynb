{
 "cells": [
  {
   "cell_type": "code",
   "execution_count": 1,
   "metadata": {
    "collapsed": true
   },
   "outputs": [],
   "source": [
    "# (c) Giles R. Greenway 11/2016\n",
    "# Licensed under a Creative Commons Attribution-NonCommercial-ShareAlike 4.0 International License.\n",
    "# In which we scrape the amount raised for the Jill Stein recount using the Wayback Machine.\n",
    "# Possibly interesting to investigate how the rate changed when the first recount was filed,\n",
    "# when the goal increased, and after *that* \"illegal votes\" tweets.\n",
    "# http://jillstein.nationbuilder.com/recount\n",
    "\n",
    "from bs4 import BeautifulSoup\n",
    "from datetime import datetime\n",
    "import matplotlib.pyplot as plt\n",
    "import matplotlib.dates as md\n",
    "import pprint\n",
    "import re\n",
    "import requests"
   ]
  },
  {
   "cell_type": "code",
   "execution_count": 2,
   "metadata": {
    "collapsed": false
   },
   "outputs": [
    {
     "name": "stdout",
     "output_type": "stream",
     "text": [
      "2016-11-30 08:12:12\n"
     ]
    }
   ],
   "source": [
    "# https://github.com/internetarchive/wayback/tree/master/wayback-cdx-server\n",
    "req = requests.get(\"https://web.archive.org/cdx/search/cdx?url=jillstein.nationbuilder.com/recount&output=json\")\n",
    "timestamps = [snapshot[1] for snapshot in req.json()[1:]]\n",
    "# When did the Wayback Machine last retrieve the page?\n",
    "print(datetime.strptime(timestamps[-1], '%Y%m%d%H%M%S'))"
   ]
  },
  {
   "cell_type": "code",
   "execution_count": 3,
   "metadata": {
    "collapsed": false
   },
   "outputs": [],
   "source": [
    "def parse_val(soup,goal=False):\n",
    "    # https://twitter.com/thepracticaldev/status/710156980535558144\n",
    "    txt = soup.find(**{'class_':('bar-text','bar-goal')[goal]}).text\n",
    "    return float(''.join(re.search('[0-9.,]+',txt).group().split(','))) / 1.0E6\n",
    "\n",
    "def get_vals(timestamp):\n",
    "    req = requests.get(\"http://web.archive.org/web/\"+timestamp+\"/https://jillstein.nationbuilder.com/recount\")\n",
    "    soup = BeautifulSoup(req.content, 'html.parser')\n",
    "    return (parse_val(soup),parse_val(soup,goal=True))\n",
    "    \n",
    "data = [get_vals(t) for t in timestamps] "
   ]
  },
  {
   "cell_type": "code",
   "execution_count": 4,
   "metadata": {
    "collapsed": false
   },
   "outputs": [],
   "source": [
    "raised, goal = zip(*data)\n",
    "times = [datetime.strptime(t, '%Y%m%d%H%M%S') for t in timestamps]"
   ]
  },
  {
   "cell_type": "code",
   "execution_count": 5,
   "metadata": {
    "collapsed": false
   },
   "outputs": [
    {
     "data": {
      "image/png": "[encoded data removed]",
      "text/plain": [
       "<matplotlib.figure.Figure at 0x7fb11b6d1d30>"
      ]
     },
     "metadata": {},
     "output_type": "display_data"
    }
   ],
   "source": [
    "%matplotlib inline\n",
    "fig, ax = plt.subplots()\n",
    "fmt = md.DateFormatter('%m/%d %H:%M')\n",
    "ax.xaxis.set_major_formatter(fmt)\n",
    "plt.xticks(rotation=25)\n",
    "raised_line, = plt.plot(times, raised, marker='*')\n",
    "ax.set_xlabel('Time Retrieved')\n",
    "ax.set_ylabel('Amount in Millions of $')\n",
    "goal_line, = plt.plot(times, goal)\n",
    "plt.legend([raised_line, goal_line], ['raised','goal'], loc='lower right')\n",
    "plt.show()"
   ]
  },
  {
   "cell_type": "code",
   "execution_count": 6,
   "metadata": {
    "collapsed": false
   },
   "outputs": [
    {
     "name": "stdout",
     "output_type": "stream",
     "text": [
      "[{'goal': 2.5, 'raised': 0.08712213, 'time': '2016-11-23T20:51:29'},\n",
      " {'goal': 2.5, 'raised': 0.1315262, 'time': '2016-11-23T21:13:23'},\n",
      " {'goal': 2.5, 'raised': 0.62691647, 'time': '2016-11-23T23:40:49'},\n",
      " {'goal': 2.5, 'raised': 0.6463864699999999, 'time': '2016-11-23T23:45:01'},\n",
      " {'goal': 2.5, 'raised': 0.780759, 'time': '2016-11-24T00:14:41'},\n",
      " {'goal': 2.5, 'raised': 1.79218394, 'time': '2016-11-24T03:46:34'},\n",
      " {'goal': 2.5, 'raised': 1.99516603, 'time': '2016-11-24T04:31:28'},\n",
      " {'goal': 2.5, 'raised': 2.0803501399999997, 'time': '2016-11-24T04:52:55'},\n",
      " {'goal': 2.5, 'raised': 2.15936574, 'time': '2016-11-24T05:16:15'},\n",
      " {'goal': 2.5, 'raised': 2.2622157599999997, 'time': '2016-11-24T05:55:30'},\n",
      " {'goal': 2.5, 'raised': 2.28460733, 'time': '2016-11-24T06:03:43'},\n",
      " {'goal': 2.5, 'raised': 2.31521366, 'time': '2016-11-24T06:16:36'},\n",
      " {'goal': 2.5, 'raised': 2.43240102, 'time': '2016-11-24T07:05:49'},\n",
      " {'goal': 2.5, 'raised': 2.471392, 'time': '2016-11-24T07:26:41'},\n",
      " {'goal': 2.5, 'raised': 2.508832, 'time': '2016-11-24T07:54:06'},\n",
      " {'goal': 4.5, 'raised': 2.55522675, 'time': '2016-11-24T08:55:24'},\n",
      " {'goal': 4.5, 'raised': 2.5624448799999997, 'time': '2016-11-24T09:06:22'},\n",
      " {'goal': 4.5, 'raised': 2.5624448799999997, 'time': '2016-11-24T09:06:29'},\n",
      " {'goal': 4.5, 'raised': 2.756523, 'time': '2016-11-24T13:20:47'},\n",
      " {'goal': 4.5, 'raised': 2.9295661, 'time': '2016-11-24T14:33:33'},\n",
      " {'goal': 4.5, 'raised': 3.15954548, 'time': '2016-11-24T15:45:33'},\n",
      " {'goal': 4.5, 'raised': 3.16188348, 'time': '2016-11-24T15:46:38'},\n",
      " {'goal': 4.5, 'raised': 3.508296, 'time': '2016-11-24T17:30:35'},\n",
      " {'goal': 4.5, 'raised': 3.802899, 'time': '2016-11-24T19:12:11'},\n",
      " {'goal': 4.5, 'raised': 3.91651227, 'time': '2016-11-24T20:01:36'},\n",
      " {'goal': 4.5, 'raised': 3.98704585, 'time': '2016-11-24T20:40:07'},\n",
      " {'goal': 4.5, 'raised': 4.00599385, 'time': '2016-11-24T20:49:17'},\n",
      " {'goal': 7.0, 'raised': 4.52084749, 'time': '2016-11-25T04:34:47'},\n",
      " {'goal': 7.0, 'raised': 4.59103966, 'time': '2016-11-25T06:11:44'},\n",
      " {'goal': 7.0, 'raised': 4.59295166, 'time': '2016-11-25T06:14:39'},\n",
      " {'goal': 7.0, 'raised': 4.61745717, 'time': '2016-11-25T07:07:20'},\n",
      " {'goal': 7.0, 'raised': 4.62139917, 'time': '2016-11-25T07:19:12'},\n",
      " {'goal': 7.0, 'raised': 4.65575126, 'time': '2016-11-25T08:42:59'},\n",
      " {'goal': 7.0, 'raised': 4.65575126, 'time': '2016-11-25T08:43:05'},\n",
      " {'goal': 7.0, 'raised': 4.67589103, 'time': '2016-11-25T10:16:05'},\n",
      " {'goal': 7.0, 'raised': 5.070091, 'time': '2016-11-25T19:02:17'},\n",
      " {'goal': 7.0, 'raised': 5.192236, 'time': '2016-11-25T21:27:02'},\n",
      " {'goal': 7.0, 'raised': 5.25626766, 'time': '2016-11-25T22:52:24'},\n",
      " {'goal': 7.0, 'raised': 5.3222060099999995, 'time': '2016-11-26T00:04:58'},\n",
      " {'goal': 7.0, 'raised': 5.360883, 'time': '2016-11-26T00:51:34'},\n",
      " {'goal': 7.0, 'raised': 5.4014655, 'time': '2016-11-26T01:39:41'},\n",
      " {'goal': 7.0, 'raised': 5.4837267, 'time': '2016-11-26T03:29:47'},\n",
      " {'goal': 7.0, 'raised': 5.5612461600000005, 'time': '2016-11-26T05:51:46'},\n",
      " {'goal': 7.0, 'raised': 5.59560699, 'time': '2016-11-26T08:45:57'},\n",
      " {'goal': 7.0, 'raised': 5.59560699, 'time': '2016-11-26T08:45:59'},\n",
      " {'goal': 7.0, 'raised': 5.5977749900000005, 'time': '2016-11-26T09:14:50'},\n",
      " {'goal': 7.0, 'raised': 5.603407, 'time': '2016-11-26T10:48:00'},\n",
      " {'goal': 7.0, 'raised': 5.94582504, 'time': '2016-11-27T01:35:43'},\n",
      " {'goal': 7.0, 'raised': 6.017622, 'time': '2016-11-27T09:04:03'},\n",
      " {'goal': 7.0, 'raised': 6.017622, 'time': '2016-11-27T09:04:36'},\n",
      " {'goal': 7.0, 'raised': 6.017622, 'time': '2016-11-27T09:14:26'},\n",
      " {'goal': 7.0, 'raised': 6.02554649, 'time': '2016-11-27T13:21:45'},\n",
      " {'goal': 7.0, 'raised': 6.02662549, 'time': '2016-11-27T13:30:31'},\n",
      " {'goal': 7.0, 'raised': 6.106343, 'time': '2016-11-27T20:29:19'},\n",
      " {'goal': 7.0, 'raised': 6.1299363300000005, 'time': '2016-11-27T21:52:08'},\n",
      " {'goal': 7.0, 'raised': 6.2278923200000005, 'time': '2016-11-28T09:27:33'},\n",
      " {'goal': 7.0, 'raised': 6.2278923200000005, 'time': '2016-11-28T09:27:35'},\n",
      " {'goal': 7.0, 'raised': 6.22895232, 'time': '2016-11-28T10:34:38'},\n",
      " {'goal': 7.0, 'raised': 6.36472575, 'time': '2016-11-29T01:21:22'},\n",
      " {'goal': 7.0, 'raised': 6.36472575, 'time': '2016-11-29T01:42:28'},\n",
      " {'goal': 7.0, 'raised': 6.37203088, 'time': '2016-11-29T01:56:04'},\n",
      " {'goal': 7.0, 'raised': 6.37203088, 'time': '2016-11-29T02:13:41'},\n",
      " {'goal': 7.0, 'raised': 6.40837534, 'time': '2016-11-29T09:45:52'},\n",
      " {'goal': 7.0, 'raised': 6.40837534, 'time': '2016-11-29T09:45:55'},\n",
      " {'goal': 7.0, 'raised': 6.454839, 'time': '2016-11-29T17:46:24'},\n",
      " {'goal': 7.0, 'raised': 6.454839, 'time': '2016-11-29T17:46:24'},\n",
      " {'goal': 7.0, 'raised': 6.454839, 'time': '2016-11-29T17:46:24'},\n",
      " {'goal': 7.0, 'raised': 6.454839, 'time': '2016-11-29T17:46:24'},\n",
      " {'goal': 9.5, 'raised': 6.572456730000001, 'time': '2016-11-30T08:12:12'},\n",
      " {'goal': 9.5, 'raised': 6.572456730000001, 'time': '2016-11-30T08:12:12'}]\n"
     ]
    }
   ],
   "source": [
    "isotimes = [t.isoformat() for t in times]\n",
    "pprint.pprint([{k:v for k,v in zip(('time','raised','goal'),l)} for l in zip(isotimes, raised, goal)])"
   ]
  },
  {
   "cell_type": "code",
   "execution_count": null,
   "metadata": {
    "collapsed": true
   },
   "outputs": [],
   "source": []
  }
 ],
 "metadata": {
  "kernelspec": {
   "display_name": "Python 3",
   "language": "python",
   "name": "python3"
  },
  "language_info": {
   "codemirror_mode": {
    "name": "ipython",
    "version": 3
   },
   "file_extension": ".py",
   "mimetype": "text/x-python",
   "name": "python",
   "nbconvert_exporter": "python",
   "pygments_lexer": "ipython3",
   "version": "3.5.2"
  }
 },
 "nbformat": 4,
 "nbformat_minor": 1
}
